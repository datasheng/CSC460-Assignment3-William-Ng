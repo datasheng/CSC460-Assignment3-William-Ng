{
 "cells": [
  {
   "cell_type": "code",
   "execution_count": 1,
   "id": "ba8db307-e83c-4fef-9223-94a82c91169e",
   "metadata": {},
   "outputs": [],
   "source": [
    "# when using jupyter lab its important install your kernel and library appropriately so you won't run into errors\n",
    "# anaconda tutorial\n",
    "# conda env create --name MyEnvName python= -c conda-forge\n",
    "# conda activate MyEnvName\n",
    "# conda install -c conda-forge jupyterlab\n",
    "# python -m ipykernel install --user --name=MyEnvName\n",
    "# jupyter lab"
   ]
  },
  {
   "cell_type": "code",
   "execution_count": 2,
   "id": "11cb8d8c-4515-4747-850e-81b163edcf7d",
   "metadata": {},
   "outputs": [],
   "source": [
    "# initialize and import required dependencies and library\n",
    "import pandas as pd\n",
    "from bs4 import BeautifulSoup"
   ]
  },
  {
   "cell_type": "code",
   "execution_count": 3,
   "id": "c26ed5a6-064f-4820-a903-0590e438dd9c",
   "metadata": {},
   "outputs": [],
   "source": [
    "from datetime import datetime, timedelta\n",
    "import requests"
   ]
  },
  {
   "cell_type": "code",
   "execution_count": 4,
   "id": "513b9e54-e35a-43a7-99ac-3007353f4352",
   "metadata": {},
   "outputs": [],
   "source": [
    "# get request and response of the url\n",
    "url = \"https://www.ccny.cuny.edu/registrar/fall\"\n",
    "r = requests.get(url)\n",
    "\n",
    "# utilize beautiful soup library to extract html\n",
    "soup = BeautifulSoup(r.text, 'html.parser')\n",
    "gethtml = soup.prettify()\n",
    "# print(gethtml)"
   ]
  },
  {
   "cell_type": "code",
   "execution_count": 5,
   "id": "131a8710-eeb1-4b2a-9105-0aa3448277a1",
   "metadata": {},
   "outputs": [],
   "source": [
    "calender = soup.find('table')"
   ]
  },
  {
   "cell_type": "code",
   "execution_count": 6,
   "id": "1fa4889a-fa7b-443e-9281-db352bd1de89",
   "metadata": {},
   "outputs": [],
   "source": [
    "# we now must iterate through the row which can be defined by tr. find_all will provide list of all tr elements\n",
    "rows = calender.find_all('tr')"
   ]
  },
  {
   "cell_type": "code",
   "execution_count": 7,
   "id": "8f344749-8117-43c4-a813-ea131357ca7a",
   "metadata": {},
   "outputs": [],
   "source": [
    "# initalize a list that is to be used for the dataframe later\n",
    "calenderData = []\n",
    "for row in rows:\n",
    "    cols = row.find_all('td')\n",
    "    if len(cols) >= 3:\n",
    "        date_str = cols[0].text.strip()\n",
    "        dow_str = cols[1].text.strip()\n",
    "        text_str = cols[2].text.strip()\n",
    "\n",
    "        # Clean unwanted characters in the text description\n",
    "        text_str = text_str.replace('\\n', ' ').replace('\\t', ' ').strip()\n",
    "\n",
    "        # Handle single dates and date ranges\n",
    "        if \"-\" in date_str:\n",
    "            # Handle a date range\n",
    "            date_range = date_str.split(' - ')\n",
    "            start_date_str = date_range[0] + \", 2021\"\n",
    "            month = start_date_str.split(' ')[0]\n",
    "            end_date_str = month + ' ' + date_range[1] + \", 2021\"\n",
    "\n",
    "            # Convert to datetime objects\n",
    "            start_date = datetime.strptime(start_date_str, \"%B %d, %Y\").date()\n",
    "            end_date = datetime.strptime(end_date_str, \"%B %d, %Y\").date()\n",
    "\n",
    "            # Iterate through the range and append each date\n",
    "            curr_date = start_date\n",
    "            while curr_date <= end_date:\n",
    "                calenderData.append({\n",
    "                    \"date\": curr_date,\n",
    "                    \"dow\": curr_date.strftime('%A'),\n",
    "                    \"text\": text_str\n",
    "                })\n",
    "                curr_date += timedelta(days=1)\n",
    "\n",
    "        else:\n",
    "            # Handle a single date\n",
    "            if \"2022\" in date_str:\n",
    "                # Date is in 2022\n",
    "                date = datetime.strptime(date_str, \"%B %d, %Y\").date()\n",
    "            else:\n",
    "                # Date is in 2021\n",
    "                date_str += \", 2021\"\n",
    "                date = datetime.strptime(date_str, \"%B %d, %Y\").date()\n",
    "\n",
    "            calenderData.append({\n",
    "                \"date\": date,\n",
    "                \"dow\": dow_str,\n",
    "                \"text\": text_str\n",
    "            })"
   ]
  },
  {
   "cell_type": "code",
   "execution_count": null,
   "id": "7e3a2e53-4ce5-4f61-a071-3bcf6f6e3d8f",
   "metadata": {},
   "outputs": [],
   "source": []
  }
 ],
 "metadata": {
  "kernelspec": {
   "display_name": "ds460",
   "language": "python",
   "name": "ds460"
  },
  "language_info": {
   "codemirror_mode": {
    "name": "ipython",
    "version": 3
   },
   "file_extension": ".py",
   "mimetype": "text/x-python",
   "name": "python",
   "nbconvert_exporter": "python",
   "pygments_lexer": "ipython3",
   "version": "3.13.0"
  }
 },
 "nbformat": 4,
 "nbformat_minor": 5
}
