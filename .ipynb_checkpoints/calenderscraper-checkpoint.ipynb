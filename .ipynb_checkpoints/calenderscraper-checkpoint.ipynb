{
 "cells": [
  {
   "cell_type": "code",
   "execution_count": null,
   "id": "ba8db307-e83c-4fef-9223-94a82c91169e",
   "metadata": {},
   "outputs": [],
   "source": [
    "# when using jupyter lab its important install your kernel and library appropriately so you won't run into errors\n",
    "# anaconda tutorial\n",
    "# conda env create --name MyEnvName python= -c conda-forge\n",
    "# conda activate MyEnvName\n",
    "# conda install -c conda-forge jupyterlab\n",
    "# python -m ipykernel install --user --name=MyEnvName\n",
    "# jupyter lab"
   ]
  },
  {
   "cell_type": "code",
   "execution_count": 1,
   "id": "11cb8d8c-4515-4747-850e-81b163edcf7d",
   "metadata": {},
   "outputs": [],
   "source": [
    "# initialize and import required dependencies and library\n",
    "import pandas as pd\n",
    "from bs4 import BeautifulSoup"
   ]
  },
  {
   "cell_type": "code",
   "execution_count": 3,
   "id": "c26ed5a6-064f-4820-a903-0590e438dd9c",
   "metadata": {},
   "outputs": [],
   "source": [
    "from datetime import datetime\n",
    "import requests"
   ]
  },
  {
   "cell_type": "code",
   "execution_count": 6,
   "id": "513b9e54-e35a-43a7-99ac-3007353f4352",
   "metadata": {},
   "outputs": [],
   "source": [
    "# get request and response of the url\n",
    "url = \"https://www.ccny.cuny.edu/registrar/fall\"\n",
    "r = requests.get(url)\n",
    "\n",
    "# utilize beautiful soup library to extract html\n",
    "soup = BeautifulSoup(r.text, 'html.parser')\n",
    "gethtml = soup.prettify()\n",
    "# print(gethtml)"
   ]
  },
  {
   "cell_type": "code",
   "execution_count": 7,
   "id": "131a8710-eeb1-4b2a-9105-0aa3448277a1",
   "metadata": {},
   "outputs": [],
   "source": [
    "calender = soup.find('table')"
   ]
  },
  {
   "cell_type": "code",
   "execution_count": 9,
   "id": "1fa4889a-fa7b-443e-9281-db352bd1de89",
   "metadata": {},
   "outputs": [],
   "source": [
    "# we now must iterate through the row which can be defined by tr. find_all will provide list of all tr elements\n",
    "rows = calender.find_all('tr')"
   ]
  },
  {
   "cell_type": "code",
   "execution_count": null,
   "id": "8f344749-8117-43c4-a813-ea131357ca7a",
   "metadata": {},
   "outputs": [],
   "source": []
  }
 ],
 "metadata": {
  "kernelspec": {
   "display_name": "ds460",
   "language": "python",
   "name": "ds460"
  },
  "language_info": {
   "codemirror_mode": {
    "name": "ipython",
    "version": 3
   },
   "file_extension": ".py",
   "mimetype": "text/x-python",
   "name": "python",
   "nbconvert_exporter": "python",
   "pygments_lexer": "ipython3",
   "version": "3.13.0"
  }
 },
 "nbformat": 4,
 "nbformat_minor": 5
}
